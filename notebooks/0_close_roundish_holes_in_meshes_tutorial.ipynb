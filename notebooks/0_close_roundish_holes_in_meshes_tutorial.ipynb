{
 "cells": [
  {
   "cell_type": "markdown",
   "id": "minute-aerospace",
   "metadata": {},
   "source": [
    "# INTRODUCTION\n",
    "\n",
    "**Purpose:** Tutorial on how to work with the close_roundish_holes functionality.\n",
    "\n",
    "**Resources:** A few resources are provided for testing.\n",
    "\n",
    "Two meshes:\n",
    "- straight_cylinder.ply: \n",
    "    - A straight cylinder with open ends. \n",
    "- curved_cylinder.ply: \n",
    "    - A curved cylinder.\n",
    "    \n",
    "**Quick overview of the method:**\n",
    "- Goal: To close all round-ish holes in a the mesh of interest.\n",
    "- Method:\n",
    "    - TODO: "
   ]
  },
  {
   "cell_type": "markdown",
   "id": "monthly-estonia",
   "metadata": {},
   "source": [
    "# THE BASICS"
   ]
  },
  {
   "cell_type": "code",
   "execution_count": 1,
   "id": "appropriate-protest",
   "metadata": {},
   "outputs": [],
   "source": [
    "%load_ext autoreload\n",
    "%autoreload 2"
   ]
  },
  {
   "cell_type": "code",
   "execution_count": 2,
   "id": "attended-barrel",
   "metadata": {},
   "outputs": [],
   "source": [
    "import os\n",
    "import sys\n",
    "import numpy as np\n",
    "import pymesh\n",
    "import matplotlib.pyplot as plt\n",
    "from tqdm.auto import tqdm\n",
    "\n",
    "sys.path.append('../src/')\n",
    "import mesh_io as mesh_io\n",
    "import close_roundish_holes as crh\n",
    "import plotting as pm"
   ]
  },
  {
   "cell_type": "markdown",
   "id": "alpine-bandwidth",
   "metadata": {},
   "source": [
    "# PATHS"
   ]
  },
  {
   "cell_type": "markdown",
   "id": "numerical-constraint",
   "metadata": {},
   "source": [
    "#### CHOOSE MESH"
   ]
  },
  {
   "cell_type": "code",
   "execution_count": 9,
   "id": "traditional-corruption",
   "metadata": {},
   "outputs": [],
   "source": [
    "# name_mesh = 'straight_cylinder'\n",
    "name_mesh = 'curved_cylinder'"
   ]
  },
  {
   "cell_type": "markdown",
   "id": "crucial-montgomery",
   "metadata": {},
   "source": [
    "#### SET PATHS"
   ]
  },
  {
   "cell_type": "code",
   "execution_count": 10,
   "id": "quarterly-dallas",
   "metadata": {},
   "outputs": [],
   "source": [
    "path_meshes = '../resources/meshes/'\n",
    "path_mesh = os.path.join(path_meshes, name_mesh+'.ply')\n",
    "\n",
    "path_figures = '../figures/'"
   ]
  },
  {
   "cell_type": "markdown",
   "id": "chemical-complaint",
   "metadata": {},
   "source": [
    "# LOAD MESH"
   ]
  },
  {
   "cell_type": "code",
   "execution_count": 4,
   "id": "piano-administration",
   "metadata": {},
   "outputs": [],
   "source": [
    "mesh = mesh_io.load_mesh(path_mesh)"
   ]
  },
  {
   "cell_type": "markdown",
   "id": "lesbian-order",
   "metadata": {},
   "source": [
    "# PLOT ORIGINAL MESH: FOR VISUAL INSPECTION"
   ]
  },
  {
   "cell_type": "code",
   "execution_count": 5,
   "id": "touched-farmer",
   "metadata": {},
   "outputs": [
    {
     "name": "stdout",
     "output_type": "stream",
     "text": [
      "Figure was saved to ../figures/curved_cylinder_before_closing.html. Check it out in your browser (Firefox might work better).\n"
     ]
    }
   ],
   "source": [
    "pm.create_figure_for_inspection(mesh, path_figures+name_mesh+'_before_closing'+'.html')"
   ]
  },
  {
   "cell_type": "markdown",
   "id": "advised-missouri",
   "metadata": {},
   "source": [
    "# CLOSE HOLES\n",
    "\n",
    "This functionality is currently based on pymesh. Will be converted to pytorch3d."
   ]
  },
  {
   "cell_type": "code",
   "execution_count": 6,
   "id": "coordinate-canadian",
   "metadata": {},
   "outputs": [
    {
     "name": "stdout",
     "output_type": "stream",
     "text": [
      "Closing 2 holes.\n"
     ]
    }
   ],
   "source": [
    "mesh = crh.close_holes(mesh)    "
   ]
  },
  {
   "cell_type": "code",
   "execution_count": 7,
   "id": "about-suffering",
   "metadata": {},
   "outputs": [],
   "source": [
    "path_mesh = path_mesh.replace('.ply', '_closed.ply')\n",
    "    \n",
    "pymesh.save_mesh(path_mesh, mesh, ascii=True)"
   ]
  },
  {
   "cell_type": "markdown",
   "id": "national-orientation",
   "metadata": {},
   "source": [
    "# PLOT CLOSED MESH: FOR VISUAL INSPECTION"
   ]
  },
  {
   "cell_type": "code",
   "execution_count": 8,
   "id": "protecting-chest",
   "metadata": {},
   "outputs": [
    {
     "name": "stdout",
     "output_type": "stream",
     "text": [
      "Figure was saved to ../figures/curved_cylinder.html. Check it out in your browser (Firefox might work better).\n"
     ]
    }
   ],
   "source": [
    "pm.create_figure_for_inspection(mesh, path_figures+name_mesh+'.html')"
   ]
  },
  {
   "cell_type": "code",
   "execution_count": null,
   "id": "renewable-reference",
   "metadata": {},
   "outputs": [],
   "source": []
  }
 ],
 "metadata": {
  "kernelspec": {
   "display_name": "Python 3",
   "language": "python",
   "name": "python3"
  },
  "language_info": {
   "codemirror_mode": {
    "name": "ipython",
    "version": 3
   },
   "file_extension": ".py",
   "mimetype": "text/x-python",
   "name": "python",
   "nbconvert_exporter": "python",
   "pygments_lexer": "ipython3",
   "version": "3.6.7"
  }
 },
 "nbformat": 4,
 "nbformat_minor": 5
}
