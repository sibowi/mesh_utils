{
 "cells": [
  {
   "cell_type": "markdown",
   "metadata": {},
   "source": [
    "# INTRODUCTION\n",
    "\n",
    "**Purpose:** Tutorial on how to work with the mesh2voxel functionality.\n",
    "\n",
    "**Speed-up initiatives**: TODO: Come up with a better name for this. \n",
    "\n",
    "Several initiatives have been implemented to optimize the computation speed:\n",
    "- Parallelization at Tensor-level.\n",
    "- GPU-compatibility: Thanks to `pytorch` and `pytorch3d` this is easy.\n",
    "- z-slab-batching: Iterate through the points in slabs along the z-direction. Should have a positive effect for any mesh.\n",
    "- Inter-slab-cropping. For each slab, only consider the points that are within the bounding box of the mesh for the given z-interval. Has an effect when the structure is elongated and with variation in the xy-plane.\n",
    "\n",
    "**Resources:** A few resources are provided for testing.\n",
    "\n",
    "Two meshes:\n",
    "- straight_cylinder.ply: \n",
    "    - A straight cylinder. \n",
    "    - The inter-slab-speed-up initiatives won't have any noticable effect, as the point grid is already cropped closely around the mesh.\n",
    "    - At z=100 and z=200 the edges align to make a circle. At this exact position along z, the need for multiple ray_directions is therefore seen clearly.\n",
    "- curved_cylinder.ply: \n",
    "    - A curved cylinder.\n",
    "    - The inter-slab-speed-up initiatives have a noticable effect, as cropping the point grid per slab has a large effect.\n",
    "    \n",
    "**Quick overview of the method:**\n",
    "- Goal: To obtain a segmentation of a mesh in voxel-space.\n",
    "- Method:\n",
    "    - A voxel is classified as being inside the mesh only if all eight corners of that voxel are inside the mesh.\n",
    "    - A grid representing all corners of all voxels are generated with the resolution `res`. Each corner is represented as a point in 3d.\n",
    "    - A point is classified as being inside or outside the mesh by checking the number of intersections between a ray scattered from that point, and the mesh. \n",
    "        - If a ray intersects an even number of times, we know that the origin is outside the mesh.\n",
    "        - If a ray intersects an uneven number of times, we know that the origin is inside the mesh.\n",
    "    - Due to numerical errors and such, multiple rays are scattered from each point, and the final classification is based on a majority vote."
   ]
  },
  {
   "cell_type": "markdown",
   "metadata": {},
   "source": [
    "# THE BASICS"
   ]
  },
  {
   "cell_type": "code",
   "execution_count": 1,
   "metadata": {},
   "outputs": [],
   "source": [
    "%load_ext autoreload\n",
    "%autoreload 2"
   ]
  },
  {
   "cell_type": "code",
   "execution_count": 2,
   "metadata": {},
   "outputs": [],
   "source": [
    "# Make GPU visible. Must be done before torch is imported.\n",
    "# Might not work for all cluster set-ups.\n",
    "import os\n",
    "os.environ[\"CUDA_DEVICE_ORDER\"] = \"PCI_BUS_ID\"\n",
    "os.environ[\"CUDA_VISIBLE_DEVICES\"] = \"1\" #index of gpu of interest"
   ]
  },
  {
   "cell_type": "code",
   "execution_count": 13,
   "metadata": {},
   "outputs": [],
   "source": [
    "import sys\n",
    "import numpy as np\n",
    "import pymesh\n",
    "import matplotlib.pyplot as plt\n",
    "from tqdm.auto import tqdm\n",
    "import torch\n",
    "import pytorch3d as torch3d\n",
    "from pytorch3d import io\n",
    "\n",
    "sys.path.append('../src/')\n",
    "import mesh_io as mesh_io\n",
    "import close_roundish_holes as crh\n",
    "import mesh_to_voxels as m2v\n",
    "import plotting as pm"
   ]
  },
  {
   "cell_type": "code",
   "execution_count": 14,
   "metadata": {},
   "outputs": [],
   "source": [
    "torch.set_default_dtype(torch.float64)"
   ]
  },
  {
   "cell_type": "markdown",
   "metadata": {},
   "source": [
    "# DEVICE\n",
    "\n",
    "Check available devices. Choose GPU if one is available. Else choose cpu."
   ]
  },
  {
   "cell_type": "code",
   "execution_count": 15,
   "metadata": {},
   "outputs": [
    {
     "name": "stdout",
     "output_type": "stream",
     "text": [
      "number of devices: 1\n",
      "device: cuda:0\n"
     ]
    }
   ],
   "source": [
    "device = torch.device('cuda:0' if torch.cuda.is_available() else 'cpu')\n",
    "# device = 'cpu'\n",
    "\n",
    "print(f'number of devices: {torch.cuda.device_count()}')\n",
    "print(f'device: {device}')"
   ]
  },
  {
   "cell_type": "markdown",
   "metadata": {},
   "source": [
    "# PATHS"
   ]
  },
  {
   "cell_type": "code",
   "execution_count": 16,
   "metadata": {},
   "outputs": [],
   "source": [
    "# mesh\n",
    "path_meshes = '../resources/meshes/'\n",
    "# name_mesh = 'straight_cylinder'\n",
    "name_mesh = 'curved_cylinder'\n",
    "path_mesh = os.path.join(path_meshes, name_mesh+'.ply')\n",
    "\n",
    "# others\n",
    "path_figures = '../figures/'"
   ]
  },
  {
   "cell_type": "markdown",
   "metadata": {},
   "source": [
    "# CLOSE HOLES\n",
    "\n",
    "This functionality is currently based on pymesh. Will be converted to pytorch3d.\n",
    "\n",
    "Skip this if you know your mesh is completely closed/water tight and you have issues with pymesh.\n",
    "\n",
    "A mesh cannot be segmented unless it is completely closed/water tight."
   ]
  },
  {
   "cell_type": "code",
   "execution_count": 17,
   "metadata": {},
   "outputs": [],
   "source": [
    "mesh = mesh_io.load_mesh(path_mesh)"
   ]
  },
  {
   "cell_type": "code",
   "execution_count": 18,
   "metadata": {
    "scrolled": false
   },
   "outputs": [
    {
     "name": "stdout",
     "output_type": "stream",
     "text": [
      "Closing 2 holes.\n"
     ]
    }
   ],
   "source": [
    "mesh = crh.close_holes(mesh)    "
   ]
  },
  {
   "cell_type": "code",
   "execution_count": 19,
   "metadata": {},
   "outputs": [],
   "source": [
    "#### save closed meshes\n",
    "if '_closed' not in path_mesh:\n",
    "\n",
    "    path_mesh = path_mesh.replace('.ply', '_closed.ply')\n",
    "    \n",
    "    pymesh.save_mesh(path_mesh, mesh, ascii=True)"
   ]
  },
  {
   "cell_type": "markdown",
   "metadata": {},
   "source": [
    "# PLOT MESH: FOR VISUAL INSPECTION\n",
    "\n",
    "Skip this if you didn't install `plotly`."
   ]
  },
  {
   "cell_type": "code",
   "execution_count": 20,
   "metadata": {},
   "outputs": [
    {
     "name": "stdout",
     "output_type": "stream",
     "text": [
      "Figure was saved to ../figures/curved_cylinder.html. Check it out in your browser (Firefox might work better).\n"
     ]
    }
   ],
   "source": [
    "pm.create_figure_for_inspection(mesh, path_figures+name_mesh+'.html')"
   ]
  },
  {
   "cell_type": "markdown",
   "metadata": {},
   "source": [
    "# MESH TO VOXELS"
   ]
  },
  {
   "cell_type": "code",
   "execution_count": 21,
   "metadata": {},
   "outputs": [],
   "source": [
    "# TODO: Add estimation of memory consumption! And make the user confirm."
   ]
  },
  {
   "cell_type": "code",
   "execution_count": 22,
   "metadata": {},
   "outputs": [
    {
     "name": "stdout",
     "output_type": "stream",
     "text": [
      "The points to be segmented are organized in a grid of shape torch.Size([106, 80, 1531]). That is 12982880 points in total.\n",
      "n_z_slices_per_batch:  6\n"
     ]
    },
    {
     "data": {
      "application/vnd.jupyter.widget-view+json": {
       "model_id": "f5e6362325564543ae6ad4e07077f674",
       "version_major": 2,
       "version_minor": 0
      },
      "text/plain": [
       "HBox(children=(IntProgress(value=0, max=256), HTML(value='')))"
      ]
     },
     "metadata": {},
     "output_type": "display_data"
    },
    {
     "name": "stdout",
     "output_type": "stream",
     "text": [
      "\t Checking 154/8576 faces.\n",
      "\t Ignoring 0.89 ray_origins in this slab.\n",
      "\t Checking 192/8576 faces.\n",
      "\t Ignoring 0.88 ray_origins in this slab.\n",
      "\t Checking 196/8576 faces.\n",
      "\t Ignoring 0.88 ray_origins in this slab.\n",
      "\t Checking 222/8576 faces.\n",
      "\t Ignoring 0.87 ray_origins in this slab.\n",
      "\t Checking 196/8576 faces.\n",
      "\t Ignoring 0.87 ray_origins in this slab.\n",
      "\t Checking 207/8576 faces.\n",
      "\t Ignoring 0.86 ray_origins in this slab.\n",
      "\t Checking 223/8576 faces.\n",
      "\t Ignoring 0.86 ray_origins in this slab.\n",
      "\t Checking 193/8576 faces.\n",
      "\t Ignoring 0.86 ray_origins in this slab.\n",
      "\t Checking 232/8576 faces.\n",
      "\t Ignoring 0.86 ray_origins in this slab.\n",
      "\t Checking 227/8576 faces.\n",
      "\t Ignoring 0.84 ray_origins in this slab.\n",
      "\t Checking 208/8576 faces.\n",
      "\t Ignoring 0.84 ray_origins in this slab.\n",
      "\t Checking 235/8576 faces.\n",
      "\t Ignoring 0.84 ray_origins in this slab.\n",
      "\t Checking 198/8576 faces.\n",
      "\t Ignoring 0.85 ray_origins in this slab.\n",
      "\t Checking 211/8576 faces.\n",
      "\t Ignoring 0.85 ray_origins in this slab.\n",
      "\t Checking 217/8576 faces.\n",
      "\t Ignoring 0.84 ray_origins in this slab.\n",
      "\t Checking 210/8576 faces.\n",
      "\t Ignoring 0.83 ray_origins in this slab.\n",
      "\t Checking 220/8576 faces.\n",
      "\t Ignoring 0.86 ray_origins in this slab.\n",
      "\t Checking 193/8576 faces.\n",
      "\t Ignoring 0.87 ray_origins in this slab.\n",
      "\t Checking 202/8576 faces.\n",
      "\t Ignoring 0.86 ray_origins in this slab.\n",
      "\t Checking 212/8576 faces.\n",
      "\t Ignoring 0.87 ray_origins in this slab.\n",
      "\t Checking 197/8576 faces.\n",
      "\t Ignoring 0.87 ray_origins in this slab.\n",
      "\t Checking 215/8576 faces.\n",
      "\t Ignoring 0.86 ray_origins in this slab.\n",
      "\t Checking 205/8576 faces.\n",
      "\t Ignoring 0.86 ray_origins in this slab.\n",
      "\t Checking 187/8576 faces.\n",
      "\t Ignoring 0.84 ray_origins in this slab.\n",
      "\t Checking 192/8576 faces.\n",
      "\t Ignoring 0.84 ray_origins in this slab.\n",
      "\t Checking 166/8576 faces.\n",
      "\t Ignoring 0.85 ray_origins in this slab.\n",
      "\t Checking 157/8576 faces.\n",
      "\t Ignoring 0.84 ray_origins in this slab.\n",
      "\t Checking 171/8576 faces.\n",
      "\t Ignoring 0.84 ray_origins in this slab.\n",
      "\t Checking 183/8576 faces.\n",
      "\t Ignoring 0.85 ray_origins in this slab.\n",
      "\t Checking 188/8576 faces.\n",
      "\t Ignoring 0.86 ray_origins in this slab.\n",
      "\t Checking 215/8576 faces.\n",
      "\t Ignoring 0.88 ray_origins in this slab.\n",
      "\t Checking 197/8576 faces.\n",
      "\t Ignoring 0.88 ray_origins in this slab.\n",
      "\t Checking 196/8576 faces.\n",
      "\t Ignoring 0.88 ray_origins in this slab.\n",
      "\t Checking 206/8576 faces.\n",
      "\t Ignoring 0.86 ray_origins in this slab.\n",
      "\t Checking 210/8576 faces.\n",
      "\t Ignoring 0.86 ray_origins in this slab.\n",
      "\t Checking 210/8576 faces.\n",
      "\t Ignoring 0.87 ray_origins in this slab.\n",
      "\t Checking 202/8576 faces.\n",
      "\t Ignoring 0.87 ray_origins in this slab.\n",
      "\t Checking 202/8576 faces.\n",
      "\t Ignoring 0.87 ray_origins in this slab.\n",
      "\t Checking 223/8576 faces.\n",
      "\t Ignoring 0.87 ray_origins in this slab.\n",
      "\t Checking 199/8576 faces.\n",
      "\t Ignoring 0.88 ray_origins in this slab.\n",
      "\t Checking 184/8576 faces.\n",
      "\t Ignoring 0.88 ray_origins in this slab.\n",
      "\t Checking 182/8576 faces.\n",
      "\t Ignoring 0.88 ray_origins in this slab.\n",
      "\t Checking 172/8576 faces.\n",
      "\t Ignoring 0.89 ray_origins in this slab.\n",
      "\t Checking 172/8576 faces.\n",
      "\t Ignoring 0.88 ray_origins in this slab.\n",
      "\t Checking 180/8576 faces.\n",
      "\t Ignoring 0.87 ray_origins in this slab.\n",
      "\t Checking 173/8576 faces.\n",
      "\t Ignoring 0.87 ray_origins in this slab.\n",
      "\t Checking 149/8576 faces.\n",
      "\t Ignoring 0.86 ray_origins in this slab.\n",
      "\t Checking 166/8576 faces.\n",
      "\t Ignoring 0.86 ray_origins in this slab.\n",
      "\t Checking 162/8576 faces.\n",
      "\t Ignoring 0.86 ray_origins in this slab.\n",
      "\t Checking 184/8576 faces.\n",
      "\t Ignoring 0.85 ray_origins in this slab.\n",
      "\t Checking 198/8576 faces.\n",
      "\t Ignoring 0.85 ray_origins in this slab.\n",
      "\t Checking 203/8576 faces.\n",
      "\t Ignoring 0.85 ray_origins in this slab.\n",
      "\t Checking 217/8576 faces.\n",
      "\t Ignoring 0.83 ray_origins in this slab.\n",
      "\t Checking 196/8576 faces.\n",
      "\t Ignoring 0.84 ray_origins in this slab.\n",
      "\t Checking 198/8576 faces.\n",
      "\t Ignoring 0.83 ray_origins in this slab.\n",
      "\t Checking 200/8576 faces.\n",
      "\t Ignoring 0.79 ray_origins in this slab.\n",
      "\t Checking 202/8576 faces.\n",
      "\t Ignoring 0.79 ray_origins in this slab.\n",
      "\t Checking 198/8576 faces.\n",
      "\t Ignoring 0.78 ray_origins in this slab.\n",
      "\t Checking 203/8576 faces.\n",
      "\t Ignoring 0.77 ray_origins in this slab.\n",
      "\t Checking 183/8576 faces.\n",
      "\t Ignoring 0.77 ray_origins in this slab.\n",
      "\t Checking 187/8576 faces.\n",
      "\t Ignoring 0.73 ray_origins in this slab.\n",
      "\t Checking 192/8576 faces.\n",
      "\t Ignoring 0.76 ray_origins in this slab.\n",
      "\t Checking 196/8576 faces.\n",
      "\t Ignoring 0.78 ray_origins in this slab.\n",
      "\t Checking 195/8576 faces.\n",
      "\t Ignoring 0.78 ray_origins in this slab.\n",
      "\t Checking 165/8576 faces.\n",
      "\t Ignoring 0.81 ray_origins in this slab.\n",
      "\t Checking 182/8576 faces.\n",
      "\t Ignoring 0.84 ray_origins in this slab.\n",
      "\t Checking 180/8576 faces.\n",
      "\t Ignoring 0.85 ray_origins in this slab.\n",
      "\t Checking 178/8576 faces.\n",
      "\t Ignoring 0.87 ray_origins in this slab.\n",
      "\t Checking 198/8576 faces.\n",
      "\t Ignoring 0.87 ray_origins in this slab.\n",
      "\t Checking 178/8576 faces.\n",
      "\t Ignoring 0.87 ray_origins in this slab.\n",
      "\t Checking 194/8576 faces.\n",
      "\t Ignoring 0.87 ray_origins in this slab.\n",
      "\t Checking 205/8576 faces.\n",
      "\t Ignoring 0.87 ray_origins in this slab.\n",
      "\t Checking 190/8576 faces.\n",
      "\t Ignoring 0.87 ray_origins in this slab.\n",
      "\t Checking 204/8576 faces.\n",
      "\t Ignoring 0.87 ray_origins in this slab.\n",
      "\t Checking 186/8576 faces.\n",
      "\t Ignoring 0.87 ray_origins in this slab.\n",
      "\t Checking 201/8576 faces.\n",
      "\t Ignoring 0.86 ray_origins in this slab.\n",
      "\t Checking 217/8576 faces.\n",
      "\t Ignoring 0.86 ray_origins in this slab.\n",
      "\t Checking 195/8576 faces.\n",
      "\t Ignoring 0.86 ray_origins in this slab.\n",
      "\t Checking 210/8576 faces.\n",
      "\t Ignoring 0.85 ray_origins in this slab.\n",
      "\t Checking 224/8576 faces.\n",
      "\t Ignoring 0.85 ray_origins in this slab.\n",
      "\t Checking 200/8576 faces.\n",
      "\t Ignoring 0.84 ray_origins in this slab.\n",
      "\t Checking 218/8576 faces.\n",
      "\t Ignoring 0.81 ray_origins in this slab.\n",
      "\t Checking 207/8576 faces.\n",
      "\t Ignoring 0.81 ray_origins in this slab.\n",
      "\t Checking 185/8576 faces.\n",
      "\t Ignoring 0.79 ray_origins in this slab.\n",
      "\t Checking 199/8576 faces.\n",
      "\t Ignoring 0.79 ray_origins in this slab.\n",
      "\t Checking 203/8576 faces.\n",
      "\t Ignoring 0.8 ray_origins in this slab.\n",
      "\t Checking 200/8576 faces.\n",
      "\t Ignoring 0.81 ray_origins in this slab.\n",
      "\t Checking 217/8576 faces.\n",
      "\t Ignoring 0.78 ray_origins in this slab.\n",
      "\t Checking 213/8576 faces.\n",
      "\t Ignoring 0.78 ray_origins in this slab.\n",
      "\t Checking 197/8576 faces.\n",
      "\t Ignoring 0.79 ray_origins in this slab.\n",
      "\t Checking 175/8576 faces.\n",
      "\t Ignoring 0.8 ray_origins in this slab.\n",
      "\t Checking 167/8576 faces.\n",
      "\t Ignoring 0.78 ray_origins in this slab.\n",
      "\t Checking 171/8576 faces.\n",
      "\t Ignoring 0.77 ray_origins in this slab.\n",
      "\t Checking 162/8576 faces.\n",
      "\t Ignoring 0.78 ray_origins in this slab.\n",
      "\t Checking 166/8576 faces.\n",
      "\t Ignoring 0.78 ray_origins in this slab.\n",
      "\t Checking 175/8576 faces.\n",
      "\t Ignoring 0.8 ray_origins in this slab.\n",
      "\t Checking 158/8576 faces.\n",
      "\t Ignoring 0.83 ray_origins in this slab.\n",
      "\t Checking 184/8576 faces.\n",
      "\t Ignoring 0.83 ray_origins in this slab.\n",
      "\t Checking 201/8576 faces.\n",
      "\t Ignoring 0.84 ray_origins in this slab.\n",
      "\t Checking 187/8576 faces.\n",
      "\t Ignoring 0.85 ray_origins in this slab.\n",
      "\t Checking 193/8576 faces.\n",
      "\t Ignoring 0.86 ray_origins in this slab.\n",
      "\t Checking 165/8576 faces.\n",
      "\t Ignoring 0.87 ray_origins in this slab.\n",
      "\t Checking 165/8576 faces.\n",
      "\t Ignoring 0.88 ray_origins in this slab.\n",
      "\t Checking 179/8576 faces.\n",
      "\t Ignoring 0.88 ray_origins in this slab.\n",
      "\t Checking 184/8576 faces.\n",
      "\t Ignoring 0.87 ray_origins in this slab.\n",
      "\t Checking 202/8576 faces.\n",
      "\t Ignoring 0.87 ray_origins in this slab.\n",
      "\t Checking 205/8576 faces.\n",
      "\t Ignoring 0.87 ray_origins in this slab.\n",
      "\t Checking 214/8576 faces.\n",
      "\t Ignoring 0.86 ray_origins in this slab.\n",
      "\t Checking 196/8576 faces.\n",
      "\t Ignoring 0.86 ray_origins in this slab.\n",
      "\t Checking 216/8576 faces.\n",
      "\t Ignoring 0.86 ray_origins in this slab.\n",
      "\t Checking 180/8576 faces.\n",
      "\t Ignoring 0.86 ray_origins in this slab.\n",
      "\t Checking 177/8576 faces.\n",
      "\t Ignoring 0.85 ray_origins in this slab.\n",
      "\t Checking 186/8576 faces.\n",
      "\t Ignoring 0.84 ray_origins in this slab.\n",
      "\t Checking 148/8576 faces.\n",
      "\t Ignoring 0.85 ray_origins in this slab.\n",
      "\t Checking 177/8576 faces.\n",
      "\t Ignoring 0.85 ray_origins in this slab.\n",
      "\t Checking 165/8576 faces.\n",
      "\t Ignoring 0.85 ray_origins in this slab.\n",
      "\t Checking 170/8576 faces.\n",
      "\t Ignoring 0.86 ray_origins in this slab.\n",
      "\t Checking 193/8576 faces.\n",
      "\t Ignoring 0.85 ray_origins in this slab.\n",
      "\t Checking 190/8576 faces.\n",
      "\t Ignoring 0.85 ray_origins in this slab.\n"
     ]
    },
    {
     "name": "stdout",
     "output_type": "stream",
     "text": [
      "\t Checking 198/8576 faces.\n",
      "\t Ignoring 0.86 ray_origins in this slab.\n",
      "\t Checking 195/8576 faces.\n",
      "\t Ignoring 0.87 ray_origins in this slab.\n",
      "\t Checking 191/8576 faces.\n",
      "\t Ignoring 0.87 ray_origins in this slab.\n",
      "\t Checking 198/8576 faces.\n",
      "\t Ignoring 0.87 ray_origins in this slab.\n",
      "\t Checking 200/8576 faces.\n",
      "\t Ignoring 0.88 ray_origins in this slab.\n",
      "\t Checking 210/8576 faces.\n",
      "\t Ignoring 0.88 ray_origins in this slab.\n",
      "\t Checking 183/8576 faces.\n",
      "\t Ignoring 0.88 ray_origins in this slab.\n",
      "\t Checking 162/8576 faces.\n",
      "\t Ignoring 0.88 ray_origins in this slab.\n",
      "\t Checking 157/8576 faces.\n",
      "\t Ignoring 0.88 ray_origins in this slab.\n",
      "\t Checking 182/8576 faces.\n",
      "\t Ignoring 0.88 ray_origins in this slab.\n",
      "\t Checking 185/8576 faces.\n",
      "\t Ignoring 0.87 ray_origins in this slab.\n",
      "\t Checking 192/8576 faces.\n",
      "\t Ignoring 0.86 ray_origins in this slab.\n",
      "\t Checking 177/8576 faces.\n",
      "\t Ignoring 0.86 ray_origins in this slab.\n",
      "\t Checking 168/8576 faces.\n",
      "\t Ignoring 0.86 ray_origins in this slab.\n",
      "\t Checking 172/8576 faces.\n",
      "\t Ignoring 0.85 ray_origins in this slab.\n",
      "\t Checking 173/8576 faces.\n",
      "\t Ignoring 0.85 ray_origins in this slab.\n",
      "\t Checking 174/8576 faces.\n",
      "\t Ignoring 0.85 ray_origins in this slab.\n",
      "\t Checking 197/8576 faces.\n",
      "\t Ignoring 0.86 ray_origins in this slab.\n",
      "\t Checking 199/8576 faces.\n",
      "\t Ignoring 0.86 ray_origins in this slab.\n",
      "\t Checking 191/8576 faces.\n",
      "\t Ignoring 0.86 ray_origins in this slab.\n",
      "\t Checking 199/8576 faces.\n",
      "\t Ignoring 0.85 ray_origins in this slab.\n",
      "\t Checking 201/8576 faces.\n",
      "\t Ignoring 0.84 ray_origins in this slab.\n",
      "\t Checking 205/8576 faces.\n",
      "\t Ignoring 0.84 ray_origins in this slab.\n",
      "\t Checking 202/8576 faces.\n",
      "\t Ignoring 0.83 ray_origins in this slab.\n",
      "\t Checking 219/8576 faces.\n",
      "\t Ignoring 0.85 ray_origins in this slab.\n",
      "\t Checking 202/8576 faces.\n",
      "\t Ignoring 0.86 ray_origins in this slab.\n",
      "\t Checking 198/8576 faces.\n",
      "\t Ignoring 0.86 ray_origins in this slab.\n",
      "\t Checking 220/8576 faces.\n",
      "\t Ignoring 0.86 ray_origins in this slab.\n",
      "\t Checking 188/8576 faces.\n",
      "\t Ignoring 0.87 ray_origins in this slab.\n",
      "\t Checking 205/8576 faces.\n",
      "\t Ignoring 0.86 ray_origins in this slab.\n",
      "\t Checking 204/8576 faces.\n",
      "\t Ignoring 0.85 ray_origins in this slab.\n",
      "\t Checking 182/8576 faces.\n",
      "\t Ignoring 0.86 ray_origins in this slab.\n",
      "\t Checking 198/8576 faces.\n",
      "\t Ignoring 0.85 ray_origins in this slab.\n",
      "\t Checking 193/8576 faces.\n",
      "\t Ignoring 0.86 ray_origins in this slab.\n",
      "\t Checking 192/8576 faces.\n",
      "\t Ignoring 0.86 ray_origins in this slab.\n",
      "\t Checking 193/8576 faces.\n",
      "\t Ignoring 0.86 ray_origins in this slab.\n",
      "\t Checking 183/8576 faces.\n",
      "\t Ignoring 0.86 ray_origins in this slab.\n",
      "\t Checking 190/8576 faces.\n",
      "\t Ignoring 0.85 ray_origins in this slab.\n",
      "\t Checking 193/8576 faces.\n",
      "\t Ignoring 0.85 ray_origins in this slab.\n",
      "\t Checking 193/8576 faces.\n",
      "\t Ignoring 0.85 ray_origins in this slab.\n",
      "\t Checking 180/8576 faces.\n",
      "\t Ignoring 0.86 ray_origins in this slab.\n",
      "\t Checking 186/8576 faces.\n",
      "\t Ignoring 0.86 ray_origins in this slab.\n",
      "\t Checking 174/8576 faces.\n",
      "\t Ignoring 0.86 ray_origins in this slab.\n",
      "\t Checking 167/8576 faces.\n",
      "\t Ignoring 0.86 ray_origins in this slab.\n",
      "\t Checking 155/8576 faces.\n",
      "\t Ignoring 0.88 ray_origins in this slab.\n",
      "\t Checking 163/8576 faces.\n",
      "\t Ignoring 0.87 ray_origins in this slab.\n",
      "\t Checking 165/8576 faces.\n",
      "\t Ignoring 0.87 ray_origins in this slab.\n",
      "\t Checking 186/8576 faces.\n",
      "\t Ignoring 0.86 ray_origins in this slab.\n",
      "\t Checking 207/8576 faces.\n",
      "\t Ignoring 0.86 ray_origins in this slab.\n",
      "\t Checking 189/8576 faces.\n",
      "\t Ignoring 0.86 ray_origins in this slab.\n",
      "\t Checking 193/8576 faces.\n",
      "\t Ignoring 0.84 ray_origins in this slab.\n",
      "\t Checking 186/8576 faces.\n",
      "\t Ignoring 0.85 ray_origins in this slab.\n",
      "\t Checking 166/8576 faces.\n",
      "\t Ignoring 0.85 ray_origins in this slab.\n",
      "\t Checking 167/8576 faces.\n",
      "\t Ignoring 0.85 ray_origins in this slab.\n",
      "\t Checking 183/8576 faces.\n",
      "\t Ignoring 0.86 ray_origins in this slab.\n",
      "\t Checking 161/8576 faces.\n",
      "\t Ignoring 0.86 ray_origins in this slab.\n",
      "\t Checking 197/8576 faces.\n",
      "\t Ignoring 0.86 ray_origins in this slab.\n",
      "\t Checking 195/8576 faces.\n",
      "\t Ignoring 0.87 ray_origins in this slab.\n",
      "\t Checking 191/8576 faces.\n",
      "\t Ignoring 0.87 ray_origins in this slab.\n",
      "\t Checking 201/8576 faces.\n",
      "\t Ignoring 0.87 ray_origins in this slab.\n",
      "\t Checking 179/8576 faces.\n",
      "\t Ignoring 0.87 ray_origins in this slab.\n",
      "\t Checking 183/8576 faces.\n",
      "\t Ignoring 0.87 ray_origins in this slab.\n",
      "\t Checking 199/8576 faces.\n",
      "\t Ignoring 0.87 ray_origins in this slab.\n",
      "\t Checking 183/8576 faces.\n",
      "\t Ignoring 0.87 ray_origins in this slab.\n",
      "\t Checking 201/8576 faces.\n",
      "\t Ignoring 0.86 ray_origins in this slab.\n",
      "\t Checking 192/8576 faces.\n",
      "\t Ignoring 0.84 ray_origins in this slab.\n",
      "\t Checking 196/8576 faces.\n",
      "\t Ignoring 0.84 ray_origins in this slab.\n",
      "\t Checking 187/8576 faces.\n",
      "\t Ignoring 0.84 ray_origins in this slab.\n",
      "\t Checking 188/8576 faces.\n",
      "\t Ignoring 0.84 ray_origins in this slab.\n",
      "\t Checking 205/8576 faces.\n",
      "\t Ignoring 0.83 ray_origins in this slab.\n",
      "\t Checking 198/8576 faces.\n",
      "\t Ignoring 0.84 ray_origins in this slab.\n",
      "\t Checking 196/8576 faces.\n",
      "\t Ignoring 0.85 ray_origins in this slab.\n",
      "\t Checking 193/8576 faces.\n",
      "\t Ignoring 0.85 ray_origins in this slab.\n",
      "\t Checking 178/8576 faces.\n",
      "\t Ignoring 0.86 ray_origins in this slab.\n",
      "\t Checking 165/8576 faces.\n",
      "\t Ignoring 0.86 ray_origins in this slab.\n",
      "\t Checking 161/8576 faces.\n",
      "\t Ignoring 0.86 ray_origins in this slab.\n",
      "\t Checking 137/8576 faces.\n",
      "\t Ignoring 0.87 ray_origins in this slab.\n",
      "\t Checking 169/8576 faces.\n",
      "\t Ignoring 0.86 ray_origins in this slab.\n",
      "\t Checking 169/8576 faces.\n",
      "\t Ignoring 0.85 ray_origins in this slab.\n",
      "\t Checking 187/8576 faces.\n",
      "\t Ignoring 0.83 ray_origins in this slab.\n",
      "\t Checking 209/8576 faces.\n",
      "\t Ignoring 0.83 ray_origins in this slab.\n",
      "\t Checking 213/8576 faces.\n",
      "\t Ignoring 0.83 ray_origins in this slab.\n",
      "\t Checking 199/8576 faces.\n",
      "\t Ignoring 0.81 ray_origins in this slab.\n",
      "\t Checking 192/8576 faces.\n",
      "\t Ignoring 0.81 ray_origins in this slab.\n",
      "\t Checking 209/8576 faces.\n",
      "\t Ignoring 0.81 ray_origins in this slab.\n",
      "\t Checking 199/8576 faces.\n",
      "\t Ignoring 0.83 ray_origins in this slab.\n",
      "\t Checking 204/8576 faces.\n",
      "\t Ignoring 0.83 ray_origins in this slab.\n",
      "\t Checking 196/8576 faces.\n",
      "\t Ignoring 0.84 ray_origins in this slab.\n",
      "\t Checking 185/8576 faces.\n",
      "\t Ignoring 0.86 ray_origins in this slab.\n",
      "\t Checking 191/8576 faces.\n",
      "\t Ignoring 0.86 ray_origins in this slab.\n",
      "\t Checking 196/8576 faces.\n",
      "\t Ignoring 0.86 ray_origins in this slab.\n",
      "\t Checking 187/8576 faces.\n",
      "\t Ignoring 0.87 ray_origins in this slab.\n",
      "\t Checking 192/8576 faces.\n",
      "\t Ignoring 0.86 ray_origins in this slab.\n",
      "\t Checking 189/8576 faces.\n",
      "\t Ignoring 0.86 ray_origins in this slab.\n",
      "\t Checking 177/8576 faces.\n",
      "\t Ignoring 0.86 ray_origins in this slab.\n",
      "\t Checking 179/8576 faces.\n",
      "\t Ignoring 0.85 ray_origins in this slab.\n",
      "\t Checking 170/8576 faces.\n",
      "\t Ignoring 0.85 ray_origins in this slab.\n",
      "\t Checking 179/8576 faces.\n",
      "\t Ignoring 0.84 ray_origins in this slab.\n",
      "\t Checking 179/8576 faces.\n",
      "\t Ignoring 0.83 ray_origins in this slab.\n",
      "\t Checking 176/8576 faces.\n",
      "\t Ignoring 0.82 ray_origins in this slab.\n",
      "\t Checking 173/8576 faces.\n",
      "\t Ignoring 0.83 ray_origins in this slab.\n",
      "\t Checking 165/8576 faces.\n",
      "\t Ignoring 0.84 ray_origins in this slab.\n",
      "\t Checking 178/8576 faces.\n",
      "\t Ignoring 0.84 ray_origins in this slab.\n",
      "\t Checking 175/8576 faces.\n",
      "\t Ignoring 0.85 ray_origins in this slab.\n",
      "\t Checking 183/8576 faces.\n",
      "\t Ignoring 0.84 ray_origins in this slab.\n",
      "\t Checking 192/8576 faces.\n",
      "\t Ignoring 0.85 ray_origins in this slab.\n",
      "\t Checking 178/8576 faces.\n",
      "\t Ignoring 0.85 ray_origins in this slab.\n",
      "\t Checking 169/8576 faces.\n",
      "\t Ignoring 0.84 ray_origins in this slab.\n",
      "\t Checking 161/8576 faces.\n",
      "\t Ignoring 0.86 ray_origins in this slab.\n",
      "\t Checking 165/8576 faces.\n",
      "\t Ignoring 0.86 ray_origins in this slab.\n",
      "\t Checking 154/8576 faces.\n",
      "\t Ignoring 0.86 ray_origins in this slab.\n",
      "\t Checking 171/8576 faces.\n",
      "\t Ignoring 0.86 ray_origins in this slab.\n",
      "\t Checking 176/8576 faces.\n",
      "\t Ignoring 0.86 ray_origins in this slab.\n",
      "\t Checking 183/8576 faces.\n",
      "\t Ignoring 0.86 ray_origins in this slab.\n",
      "\t Checking 192/8576 faces.\n",
      "\t Ignoring 0.85 ray_origins in this slab.\n",
      "\t Checking 188/8576 faces.\n",
      "\t Ignoring 0.86 ray_origins in this slab.\n",
      "\t Checking 190/8576 faces.\n",
      "\t Ignoring 0.85 ray_origins in this slab.\n",
      "\t Checking 186/8576 faces.\n",
      "\t Ignoring 0.84 ray_origins in this slab.\n",
      "\t Checking 179/8576 faces.\n",
      "\t Ignoring 0.85 ray_origins in this slab.\n"
     ]
    },
    {
     "name": "stdout",
     "output_type": "stream",
     "text": [
      "\t Checking 193/8576 faces.\n",
      "\t Ignoring 0.84 ray_origins in this slab.\n",
      "\t Checking 201/8576 faces.\n",
      "\t Ignoring 0.85 ray_origins in this slab.\n",
      "\t Checking 178/8576 faces.\n",
      "\t Ignoring 0.86 ray_origins in this slab.\n",
      "\t Checking 203/8576 faces.\n",
      "\t Ignoring 0.86 ray_origins in this slab.\n",
      "\t Checking 190/8576 faces.\n",
      "\t Ignoring 0.87 ray_origins in this slab.\n",
      "\t Checking 162/8576 faces.\n",
      "\t Ignoring 0.87 ray_origins in this slab.\n",
      "\t Checking 195/8576 faces.\n",
      "\t Ignoring 0.86 ray_origins in this slab.\n",
      "\t Checking 196/8576 faces.\n",
      "\t Ignoring 0.86 ray_origins in this slab.\n",
      "\t Checking 172/8576 faces.\n",
      "\t Ignoring 0.86 ray_origins in this slab.\n",
      "\t Checking 189/8576 faces.\n",
      "\t Ignoring 0.86 ray_origins in this slab.\n",
      "\t Checking 175/8576 faces.\n",
      "\t Ignoring 0.87 ray_origins in this slab.\n",
      "\t Checking 179/8576 faces.\n",
      "\t Ignoring 0.86 ray_origins in this slab.\n",
      "\t Checking 184/8576 faces.\n",
      "\t Ignoring 0.86 ray_origins in this slab.\n",
      "\t Checking 177/8576 faces.\n",
      "\t Ignoring 0.86 ray_origins in this slab.\n",
      "\t Checking 209/8576 faces.\n",
      "\t Ignoring 0.86 ray_origins in this slab.\n",
      "\t Checking 182/8576 faces.\n",
      "\t Ignoring 0.87 ray_origins in this slab.\n",
      "\t Checking 149/8576 faces.\n",
      "\t Ignoring 0.87 ray_origins in this slab.\n",
      "\t Checking 121/8576 faces.\n",
      "\t Ignoring 0.88 ray_origins in this slab.\n",
      "\n"
     ]
    }
   ],
   "source": [
    "# inspection mode\n",
    "mask_voxel_corners_inside, intersections = m2v.check_if_voxel_corners_are_inside_mesh(path_mesh, res=0.1, device=device, inspection_mode=True)\n",
    "\n",
    "# regular mode\n",
    "# mask_inside = m2v.mesh2voxels(path_mesh, res=0.1, device=device, inspection_mode=False)\n",
    "\n",
    "# convert from point-space to voxel-space\n",
    "segmentation = m2v.get_segmentation_from_mask_voxel_corners_inside(mask_voxel_corners_inside)"
   ]
  },
  {
   "cell_type": "markdown",
   "metadata": {},
   "source": [
    "# CHECK RESULTING SEGMENTATION"
   ]
  },
  {
   "cell_type": "code",
   "execution_count": 23,
   "metadata": {},
   "outputs": [
    {
     "data": {
      "image/png": "[encoded data removed]",
      "text/plain": [
       "<Figure size 432x288 with 2 Axes>"
      ]
     },
     "metadata": {
      "needs_background": "light"
     },
     "output_type": "display_data"
    },
    {
     "data": {
      "image/png": "[encoded data removed]",
      "text/plain": [
       "<Figure size 432x288 with 2 Axes>"
      ]
     },
     "metadata": {
      "needs_background": "light"
     },
     "output_type": "display_data"
    },
    {
     "data": {
      "image/png": "[encoded data removed]",
      "text/plain": [
       "<Figure size 432x288 with 2 Axes>"
      ]
     },
     "metadata": {
      "needs_background": "light"
     },
     "output_type": "display_data"
    },
    {
     "data": {
      "image/png": "[encoded data removed]",
      "text/plain": [
       "<Figure size 432x288 with 2 Axes>"
      ]
     },
     "metadata": {
      "needs_background": "light"
     },
     "output_type": "display_data"
    },
    {
     "data": {
      "image/png": "[encoded data removed]",
      "text/plain": [
       "<Figure size 432x288 with 2 Axes>"
      ]
     },
     "metadata": {
      "needs_background": "light"
     },
     "output_type": "display_data"
    },
    {
     "data": {
      "image/png": "[encoded data removed]",
      "text/plain": [
       "<Figure size 432x288 with 2 Axes>"
      ]
     },
     "metadata": {
      "needs_background": "light"
     },
     "output_type": "display_data"
    }
   ],
   "source": [
    "cmap = plt.cm.get_cmap('viridis', 2)\n",
    "\n",
    "for idx_slice in range(0, segmentation.shape[-1],(segmentation.shape[-1]-1)//5):\n",
    "# for idx_slice in [0, 1000, 2000, 3000]:\n",
    "    \n",
    "    plt.imshow(segmentation[:, :, idx_slice].to('cpu')*1, vmin=0, vmax=1, cmap=cmap)\n",
    "    plt.title(f'i = {idx_slice}')\n",
    "    cbar = plt.colorbar()\n",
    "    cbar.set_ticks([0.25, 0.75])\n",
    "    cbar.set_ticklabels(['outside', 'inside'])\n",
    "    plt.show()"
   ]
  },
  {
   "cell_type": "markdown",
   "metadata": {},
   "source": [
    "# INSPECT PRELIMINARY RESULTS"
   ]
  },
  {
   "cell_type": "markdown",
   "metadata": {},
   "source": [
    "### FOR INDIVIDUAL RAY-DIRECTIONS, SEGMENTATION (PER POINT), AND SEGMENTATION (PER VOXEL)\n",
    "\n",
    "- **Individual ray-directions:** Shows whether or not each point was classified as being inside or outside of the mesh for each of the ray_diretions.\n",
    "- **Segmentation (per point):** Shows how the result for the individual ray_directions were accumulated.\n",
    "- **Segmentation (per voxel):** Shows whether or not each voxel was classified as being inside or outside of the mesh. A voxel is only classified as being inside the mesh if all of it's eight corners are inside the mesh. "
   ]
  },
  {
   "cell_type": "code",
   "execution_count": 24,
   "metadata": {},
   "outputs": [
    {
     "data": {
      "image/png": "[encoded data removed]",
      "text/plain": [
       "<Figure size 1152x144 with 6 Axes>"
      ]
     },
     "metadata": {
      "needs_background": "light"
     },
     "output_type": "display_data"
    },
    {
     "data": {
      "image/png": "[encoded data removed]",
      "text/plain": [
       "<Figure size 1152x144 with 6 Axes>"
      ]
     },
     "metadata": {
      "needs_background": "light"
     },
     "output_type": "display_data"
    },
    {
     "data": {
      "image/png": "[encoded data removed]",
      "text/plain": [
       "<Figure size 1152x144 with 6 Axes>"
      ]
     },
     "metadata": {
      "needs_background": "light"
     },
     "output_type": "display_data"
    },
    {
     "data": {
      "image/png": "[encoded data removed]",
      "text/plain": [
       "<Figure size 1152x144 with 6 Axes>"
      ]
     },
     "metadata": {
      "needs_background": "light"
     },
     "output_type": "display_data"
    },
    {
     "data": {
      "image/png": "[encoded data removed]",
      "text/plain": [
       "<Figure size 1152x144 with 6 Axes>"
      ]
     },
     "metadata": {
      "needs_background": "light"
     },
     "output_type": "display_data"
    },
    {
     "data": {
      "image/png": "[encoded data removed]",
      "text/plain": [
       "<Figure size 1152x144 with 6 Axes>"
      ]
     },
     "metadata": {
      "needs_background": "light"
     },
     "output_type": "display_data"
    }
   ],
   "source": [
    "cmap = plt.cm.get_cmap('viridis', 2)\n",
    "\n",
    "_0 = (intersections[0] % 2 == 1) * 1\n",
    "_1 = (intersections[1] % 2 == 1) * 1\n",
    "_2 = (intersections[2] % 2 == 1) * 1\n",
    "_3 = mask_voxel_corners_inside\n",
    "\n",
    "cmax = max([torch.max(_0), torch.max(_1), torch.max(_2), torch.max(_3)])\n",
    "\n",
    "# for i, idx_slice in enumerate([1, 1000, 2000, 2999, 3000, 3001]):\n",
    "for i, idx_slice in enumerate(range(0, mask_voxel_corners_inside.shape[-1], mask_voxel_corners_inside.shape[-1]//5)):\n",
    "    \n",
    "    fig, axs = plt.subplots(1, 5, figsize=(16, 2))\n",
    "    \n",
    "    im0 = axs[0].imshow(_0[:, :, idx_slice].to('cpu'), vmin=0, vmax=cmax, cmap=cmap, origin='lower')\n",
    "    im1 = axs[1].imshow(_1[:, :, idx_slice].to('cpu'), vmin=0, vmax=cmax, cmap=cmap, origin='lower')\n",
    "    im2 = axs[2].imshow(_2[:, :, idx_slice].to('cpu'), vmin=0, vmax=cmax, cmap=cmap, origin='lower')\n",
    "    im3 = axs[3].imshow(_3[:, :, idx_slice].to('cpu'), vmin=0, vmax=cmax, cmap=cmap, origin='lower')\n",
    "    im4 = axs[4].imshow(segmentation[:, :, idx_slice-1].to('cpu'), vmin=0, vmax=cmax, cmap=cmap, origin='lower')\n",
    "    \n",
    "    cbar4 = fig.colorbar(im4, ax=axs[4])\n",
    "    \n",
    "    cbar4.set_ticks([0.25, 0.75])\n",
    "    cbar4.set_ticklabels(['outside', 'inside'])\n",
    "    \n",
    "    axs[0].set_ylabel(f'idx_slice = {idx_slice}')\n",
    "    axs[4].set_ylabel(f'idx_slice = {idx_slice-1}')\n",
    "    \n",
    "    if i == 0:\n",
    "        \n",
    "        axs[0].set_title('For ray_direction[0]')\n",
    "        axs[1].set_title('For ray_direction[1]')\n",
    "        axs[2].set_title('For ray_direction[2]')\n",
    "        axs[3].set_title('Segmentation (per point)')\n",
    "        axs[4].set_title('Segmentation (per voxel)')\n",
    "    \n",
    "    plt.show()"
   ]
  },
  {
   "cell_type": "markdown",
   "metadata": {},
   "source": [
    "### FOR INDIVIDUAL RAY-DIRECTIONS, SEGMENTATION (PER POINT), AND SEGMENTATION (PER VOXEL)\n",
    "\n",
    "- **Individual ray-directions:** Shows how many intersections were registered for each point for each of the ray_diretions.\n",
    "- **Segmentation (per point):** Shows how the result for the individual ray_directions were accumulated.\n",
    "- **Segmentation (per voxel):** Shows whether or not each voxel was classified as being inside or outside of the mesh. A voxel is only classified as being inside the mesh if all of it's eight corners are inside the mesh. "
   ]
  },
  {
   "cell_type": "code",
   "execution_count": 25,
   "metadata": {},
   "outputs": [
    {
     "data": {
      "image/png": "[encoded data removed]",
      "text/plain": [
       "<Figure size 1152x144 with 7 Axes>"
      ]
     },
     "metadata": {
      "needs_background": "light"
     },
     "output_type": "display_data"
    },
    {
     "data": {
      "image/png": "[encoded data removed]",
      "text/plain": [
       "<Figure size 1152x144 with 7 Axes>"
      ]
     },
     "metadata": {
      "needs_background": "light"
     },
     "output_type": "display_data"
    },
    {
     "data": {
      "image/png": "[encoded data removed]",
      "text/plain": [
       "<Figure size 1152x144 with 7 Axes>"
      ]
     },
     "metadata": {
      "needs_background": "light"
     },
     "output_type": "display_data"
    },
    {
     "data": {
      "image/png": "[encoded data removed]",
      "text/plain": [
       "<Figure size 1152x144 with 7 Axes>"
      ]
     },
     "metadata": {
      "needs_background": "light"
     },
     "output_type": "display_data"
    },
    {
     "data": {
      "image/png": "[encoded data removed]",
      "text/plain": [
       "<Figure size 1152x144 with 7 Axes>"
      ]
     },
     "metadata": {
      "needs_background": "light"
     },
     "output_type": "display_data"
    },
    {
     "data": {
      "image/png": "[encoded data removed]",
      "text/plain": [
       "<Figure size 1152x144 with 7 Axes>"
      ]
     },
     "metadata": {
      "needs_background": "light"
     },
     "output_type": "display_data"
    }
   ],
   "source": [
    "cmap = plt.cm.get_cmap('viridis')\n",
    "\n",
    "_0 = intersections[0]\n",
    "_1 = intersections[1]\n",
    "_2 = intersections[2]\n",
    "_3 = mask_voxel_corners_inside\n",
    "\n",
    "cmax = max([torch.max(_0), torch.max(_1), torch.max(_2), torch.max(_3)])\n",
    "\n",
    "# for i, idx_slice in enumerate([1, 1000, 2000, 2999, 3000, 3001]):\n",
    "for i, idx_slice in enumerate(range(0, mask_voxel_corners_inside.shape[-1], mask_voxel_corners_inside.shape[-1]//5)):\n",
    "    \n",
    "    fig, axs = plt.subplots(1, 5, figsize=(16, 2))\n",
    "    \n",
    "    im0 = axs[0].imshow(_0[:, :, idx_slice].to('cpu'), vmin=0, vmax=cmax, cmap=cmap, origin='lower')\n",
    "    im1 = axs[1].imshow(_1[:, :, idx_slice].to('cpu'), vmin=0, vmax=cmax, cmap=cmap, origin='lower')\n",
    "    im2 = axs[2].imshow(_2[:, :, idx_slice].to('cpu'), vmin=0, vmax=cmax, cmap=cmap, origin='lower')\n",
    "    im3 = axs[3].imshow(_3[:, :, idx_slice].to('cpu'), vmin=0, vmax=1, cmap=cmap, origin='lower')\n",
    "    im4 = axs[4].imshow(segmentation[:, :, idx_slice-1].to('cpu'), vmin=0, vmax=1, cmap=cmap, origin='lower')\n",
    "    \n",
    "    cbar2 = fig.colorbar(im2, ax=axs[2])\n",
    "    cbar2.set_label('intersections')\n",
    "    \n",
    "    cbar4 = fig.colorbar(im4, ax=axs[4])\n",
    "    cbar4.set_ticks([0.25, 0.75])\n",
    "    cbar4.set_ticklabels(['outside', 'inside'])\n",
    "    \n",
    "    axs[0].set_ylabel(f'idx_slice = {idx_slice}')\n",
    "    axs[4].set_ylabel(f'idx_slice = {idx_slice-1}')\n",
    "    \n",
    "    if i == 0:\n",
    "        \n",
    "        axs[0].set_title('For ray_direction[0]')\n",
    "        axs[1].set_title('For ray_direction[1]')\n",
    "        axs[2].set_title('For ray_direction[2]')\n",
    "        axs[3].set_title('Segmentation (per point)')\n",
    "        axs[4].set_title('Segmentation (per voxel)')\n",
    "    \n",
    "    plt.show()"
   ]
  },
  {
   "cell_type": "markdown",
   "metadata": {},
   "source": [
    "# INSPECT MEMORY CONSUMPTION\n",
    "\n",
    "For debugging. TODO: Remove."
   ]
  },
  {
   "cell_type": "code",
   "execution_count": 26,
   "metadata": {},
   "outputs": [
    {
     "name": "stderr",
     "output_type": "stream",
     "text": [
      "/home/siwin/.conda/envs/mesh_utils/lib/python3.6/site-packages/torch/distributed/distributed_c10d.py:126: UserWarning:\n",
      "\n",
      "torch.distributed.reduce_op is deprecated, please use torch.distributed.ReduceOp instead\n",
      "\n"
     ]
    },
    {
     "name": "stdout",
     "output_type": "stream",
     "text": [
      "1 <class 'torch.Tensor'> torch.Size([1, 3, 3]) 36\n",
      "k:  _R\n",
      "2 <class 'torch.Tensor'> torch.Size([1, 3]) 12\n",
      "k:  _T\n",
      "3 <class 'torch.Tensor'> torch.Size([106, 80, 1531]) 12982880\n",
      "k:  mask_voxel_corners_inside\n",
      "k:  _3\n",
      "4 <class 'torch.Tensor'> torch.Size([106, 80, 1531]) 103863040\n",
      "k:  _0\n",
      "5 <class 'torch.Tensor'> torch.Size([106, 80, 1531]) 103863040\n",
      "k:  _1\n",
      "6 <class 'torch.Tensor'> torch.Size([106, 80, 1531]) 103863040\n",
      "k:  _2\n",
      "7 <class 'torch.Tensor'> torch.Size([105, 79, 1530]) 12691350\n",
      "k:  segmentation\n",
      "8 <class 'torch.Tensor'> torch.Size([]) 8\n",
      "k:  cmax\n"
     ]
    }
   ],
   "source": [
    "import torch\n",
    "import gc\n",
    "import sys\n",
    "\n",
    "def check_memory_consumption():\n",
    "    counter = 0\n",
    "\n",
    "    for obj in gc.get_objects():\n",
    "        try:\n",
    "            if torch.is_tensor(obj) or (hasattr(obj, 'data') and torch.is_tensor(obj.data)):\n",
    "                counter += 1\n",
    "                print(counter, type(obj), obj.size(), obj.element_size() * obj.nelement())\n",
    "                \n",
    "                for referrer in gc.get_referrers(obj):\n",
    "                    if isinstance(referrer, dict):\n",
    "                        for k, v in referrer.items():\n",
    "                            if v is obj:\n",
    "                                print('k: ', k)\n",
    "        except:\n",
    "            pass\n",
    "        \n",
    "check_memory_consumption()"
   ]
  },
  {
   "cell_type": "code",
   "execution_count": null,
   "metadata": {},
   "outputs": [],
   "source": []
  },
  {
   "cell_type": "code",
   "execution_count": null,
   "metadata": {},
   "outputs": [],
   "source": []
  }
 ],
 "metadata": {
  "kernelspec": {
   "display_name": "Python 3",
   "language": "python",
   "name": "python3"
  },
  "language_info": {
   "codemirror_mode": {
    "name": "ipython",
    "version": 3
   },
   "file_extension": ".py",
   "mimetype": "text/x-python",
   "name": "python",
   "nbconvert_exporter": "python",
   "pygments_lexer": "ipython3",
   "version": "3.6.7"
  }
 },
 "nbformat": 4,
 "nbformat_minor": 4
}
