{
 "cells": [
  {
   "cell_type": "markdown",
   "id": "electronic-success",
   "metadata": {},
   "source": [
    "# INTRODUCTION\n",
    "\n",
    "**Purpose:** Tutorial on how to work with the close_roundish_holes functionality.\n",
    "\n",
    "**Resources:** A few resources are provided for testing.\n",
    "\n",
    "Two meshes:\n",
    "- straight_cylinder.ply: \n",
    "    - A straight cylinder with open ends. \n",
    "- curved_cylinder.ply: \n",
    "    - A curved cylinder.\n",
    "    \n",
    "**Quick overview of the method:**\n",
    "- Goal: To close all round-ish holes in a the mesh of interest.\n",
    "- Method:\n",
    "    - TODO: Fill out."
   ]
  },
  {
   "cell_type": "markdown",
   "id": "working-syndrome",
   "metadata": {},
   "source": [
    "# THE BASICS"
   ]
  },
  {
   "cell_type": "code",
   "execution_count": 1,
   "id": "charitable-orientation",
   "metadata": {},
   "outputs": [],
   "source": [
    "%load_ext autoreload\n",
    "%autoreload 2"
   ]
  },
  {
   "cell_type": "code",
   "execution_count": 2,
   "id": "considered-cancer",
   "metadata": {},
   "outputs": [],
   "source": [
    "import os\n",
    "import sys\n",
    "import numpy as np\n",
    "import torch\n",
    "import pytorch3d\n",
    "import pytorch3d.io\n",
    "import matplotlib.pyplot as plt\n",
    "from tqdm.auto import tqdm\n",
    "\n",
    "sys.path.append('../src/')\n",
    "import mesh_io as mesh_io\n",
    "#import close_roundish_holes as crh\n",
    "import close_roundish_holes_pytorch3d as crh\n",
    "import plotting_pytorch3d as pm"
   ]
  },
  {
   "cell_type": "markdown",
   "id": "fallen-norman",
   "metadata": {},
   "source": [
    "# PATHS"
   ]
  },
  {
   "cell_type": "markdown",
   "id": "turned-istanbul",
   "metadata": {},
   "source": [
    "#### CHOOSE MESH"
   ]
  },
  {
   "cell_type": "code",
   "execution_count": 3,
   "id": "acoustic-wonder",
   "metadata": {},
   "outputs": [],
   "source": [
    "# name_mesh = 'straight_cylinder'\n",
    "name_mesh = 'curved_cylinder'"
   ]
  },
  {
   "cell_type": "markdown",
   "id": "conventional-terrorist",
   "metadata": {},
   "source": [
    "#### SET PATHS"
   ]
  },
  {
   "cell_type": "code",
   "execution_count": 4,
   "id": "removable-racing",
   "metadata": {},
   "outputs": [],
   "source": [
    "path_meshes = '../resources/meshes/'\n",
    "path_mesh = os.path.join(path_meshes, name_mesh+'.ply')\n",
    "\n",
    "path_figures = '../figures/'"
   ]
  },
  {
   "cell_type": "markdown",
   "id": "indian-belize",
   "metadata": {},
   "source": [
    "# LOAD MESH"
   ]
  },
  {
   "cell_type": "code",
   "execution_count": 5,
   "id": "quarterly-ozone",
   "metadata": {},
   "outputs": [],
   "source": [
    "vertices, faces = pytorch3d.io.load_ply(path_mesh)"
   ]
  },
  {
   "cell_type": "markdown",
   "id": "abroad-overview",
   "metadata": {},
   "source": [
    "# PLOT ORIGINAL MESH: FOR VISUAL INSPECTION"
   ]
  },
  {
   "cell_type": "code",
   "execution_count": 6,
   "id": "acting-invention",
   "metadata": {},
   "outputs": [
    {
     "name": "stdout",
     "output_type": "stream",
     "text": [
      "Figure was saved to ../figures/curved_cylinder_before_closing.html. Check it out in your browser (Firefox might work better).\n"
     ]
    }
   ],
   "source": [
    "pm.create_figure_for_inspection(vertices, faces, path_figures+name_mesh+'_before_closing'+'.html')"
   ]
  },
  {
   "cell_type": "markdown",
   "id": "computational-sentence",
   "metadata": {},
   "source": [
    "# CLOSE HOLES\n",
    "\n",
    "This functionality is currently based on pymesh. Will be converted to pytorch3d."
   ]
  },
  {
   "cell_type": "code",
   "execution_count": 7,
   "id": "heavy-suite",
   "metadata": {},
   "outputs": [
    {
     "name": "stdout",
     "output_type": "stream",
     "text": [
      "Closing 2 holes.\n"
     ]
    }
   ],
   "source": [
    "vertices, faces = crh.close_holes(vertices, faces)"
   ]
  },
  {
   "cell_type": "code",
   "execution_count": 8,
   "id": "enabling-promise",
   "metadata": {},
   "outputs": [],
   "source": [
    "path_mesh = path_mesh.replace('.ply', '_closed.ply')\n",
    "    \n",
    "pytorch3d.io.save_ply(path_mesh, vertices, faces, ascii=True)"
   ]
  },
  {
   "cell_type": "markdown",
   "id": "sporting-cricket",
   "metadata": {},
   "source": [
    "# PLOT CLOSED MESH: FOR VISUAL INSPECTION"
   ]
  },
  {
   "cell_type": "code",
   "execution_count": 9,
   "id": "comparable-blind",
   "metadata": {},
   "outputs": [
    {
     "name": "stdout",
     "output_type": "stream",
     "text": [
      "Figure was saved to ../figures/curved_cylinder.html. Check it out in your browser (Firefox might work better).\n"
     ]
    }
   ],
   "source": [
    "pm.create_figure_for_inspection(vertices, faces, path_figures+name_mesh+'.html')"
   ]
  },
  {
   "cell_type": "code",
   "execution_count": null,
   "id": "gentle-battlefield",
   "metadata": {},
   "outputs": [],
   "source": []
  }
 ],
 "metadata": {
  "kernelspec": {
   "display_name": "Python 3",
   "language": "python",
   "name": "python3"
  },
  "language_info": {
   "codemirror_mode": {
    "name": "ipython",
    "version": 3
   },
   "file_extension": ".py",
   "mimetype": "text/x-python",
   "name": "python",
   "nbconvert_exporter": "python",
   "pygments_lexer": "ipython3",
   "version": "3.6.7"
  }
 },
 "nbformat": 4,
 "nbformat_minor": 5
}
